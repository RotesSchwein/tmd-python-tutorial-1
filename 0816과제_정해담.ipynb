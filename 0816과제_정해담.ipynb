{
  "nbformat": 4,
  "nbformat_minor": 0,
  "metadata": {
    "colab": {
      "provenance": []
    },
    "kernelspec": {
      "name": "python3",
      "display_name": "Python 3"
    },
    "language_info": {
      "name": "python"
    }
  },
  "cells": [
    {
      "cell_type": "markdown",
      "source": [
        "##정수 리스트를 입력받아, 그 중 짝수만을 반환하는 함수의 코드를 완성해보자"
      ],
      "metadata": {
        "id": "dg8ieko8RDJE"
      }
    },
    {
      "cell_type": "code",
      "source": [
        "#'even numbers' 함수를 정의합니다.\n",
        "#이 함수는 정수 리스트를 입력받아 짝수만을 반환합니다.\n",
        "\n",
        "def even_numbers(numbers):\n",
        "  #이 곳에 코드를 작성해주세요\n",
        "  even_list = [i for i in numbers if i % 2 == 0]\n",
        "  return even_list\n",
        "  #이 곳에 코드를 작성해주세요\n",
        "\n",
        "#예제로 사용할 숫자 리스트\n",
        "numbers = [1, 2, 3, 4, 5, 6, 7, 8, 9]\n",
        "\n",
        "#'even_numbers' 함수를 호출하고 결과를 출력합니다.\n",
        "print(even_numbers(numbers))"
      ],
      "metadata": {
        "colab": {
          "base_uri": "https://localhost:8080/"
        },
        "id": "TKt8vIEqRIV0",
        "outputId": "a4a0f4a6-8378-4780-b0a5-5ad642348513"
      },
      "execution_count": null,
      "outputs": [
        {
          "output_type": "stream",
          "name": "stdout",
          "text": [
            "[2, 4, 6, 8]\n"
          ]
        }
      ]
    },
    {
      "cell_type": "markdown",
      "source": [
        "##문자열을 입력받아서 그 문자열을 거꾸로 뒤집은 결과를 반환하는 함수를 완성해보자"
      ],
      "metadata": {
        "id": "OOBqpfShUcOw"
      }
    },
    {
      "cell_type": "code",
      "source": [
        "# 'reverse_string' 함수를 정의합니다.\n",
        "#이 함수는 문자열을 입력받아 거꾸로 뒤집은 결과를 반환합니다.\n",
        "\n",
        "def reverse_string(s):\n",
        "  # 이 곳에 코드를 작성해주세요\n",
        "  r_string = s[::-1]\n",
        "  return r_string\n",
        "  # 이 곳에 코드를 작성해주세요\n",
        "\n",
        "# 예제로 사용할 문자열\n",
        "example_string = \"파이썬\"\n",
        "# 'reverse_string' 함수를 호출하고 결과를 출력합니다.\n",
        "print(reverse_string(example_string)) # 출력: \"썬이파\""
      ],
      "metadata": {
        "colab": {
          "base_uri": "https://localhost:8080/"
        },
        "id": "JAWco2eKURaL",
        "outputId": "8a059e0c-6be6-4745-cb17-bfca297db7de"
      },
      "execution_count": null,
      "outputs": [
        {
          "output_type": "stream",
          "name": "stdout",
          "text": [
            "썬이파\n"
          ]
        }
      ]
    },
    {
      "cell_type": "markdown",
      "source": [
        "##리스트의 모든 요소를 더하는 함수를 완성해보자"
      ],
      "metadata": {
        "id": "iG0mH-jjXgmn"
      }
    },
    {
      "cell_type": "code",
      "source": [
        "# 'sum_elements' 함수를 정의합니다.\n",
        "#이 함수는 리스트의 모든 요소를 더해 반환합니다.\n",
        "\n",
        "def sum_elements(elements):\n",
        "  # 이 곳에 코드를 작성해주세요\n",
        "  for num in elements:\n",
        "    sum_list  = sum(elements)\n",
        "    return sum_list\n",
        "  # 이 곳에 코드를 작성해주세요\n",
        "\n",
        "# 예제로 사용할 리스트\n",
        "numbers = [10, 20, 30, 40, 50]\n",
        " # 'sum_elements' 함수를 호출하고 결과를 출력합니다.\n",
        "print(sum_elements(numbers)) # 출력: 150"
      ],
      "metadata": {
        "colab": {
          "base_uri": "https://localhost:8080/"
        },
        "id": "c6ExJzY7W8Q7",
        "outputId": "16f2a9c9-8456-4cf2-9d93-1bfe4ff539fa"
      },
      "execution_count": null,
      "outputs": [
        {
          "output_type": "stream",
          "name": "stdout",
          "text": [
            "150\n"
          ]
        }
      ]
    },
    {
      "cell_type": "markdown",
      "source": [
        "##정수 리스트를 입력받아 그 중 가장 큰 수와 가장 작은 수를 반환하는 함수를 완성해보자"
      ],
      "metadata": {
        "id": "cm2RBFWEZrXR"
      }
    },
    {
      "cell_type": "code",
      "source": [
        "# 'find_max_min' 함수를 정의합니다.\n",
        "#이 함수는 정수 리스트를 입력받아 가장 큰 수와 가장 작은 수를 반환합니다.\n",
        "\n",
        "def find_max_min(numbers_list):\n",
        "  # 이 곳에 코드를 작성해주세요\n",
        "  max_value = max(numbers_list)\n",
        "  min_value = min(numbers_list)\n",
        "  return max_value, min_value\n",
        "  # 이 곳에 코드를 작성해주세요\n",
        "\n",
        "# 예제로 사용할 정수 리스트\n",
        "numbers = [34, 12, 56, 78, 23]\n",
        "# 'find_max_min' 함수를 호출하고 결과를 출력합니다.\n",
        "print(find_max_min(numbers)) # 출력: (78, 12)"
      ],
      "metadata": {
        "colab": {
          "base_uri": "https://localhost:8080/"
        },
        "id": "QxD6V9nBYFLa",
        "outputId": "c8e22e5b-ad4e-454f-9ed2-dc9656672c6b"
      },
      "execution_count": null,
      "outputs": [
        {
          "output_type": "stream",
          "name": "stdout",
          "text": [
            "(78, 12)\n"
          ]
        }
      ]
    },
    {
      "cell_type": "markdown",
      "source": [
        "##문자열을 입력 받아서 그 중 영어 모음의 개수를 반환하는 함수를 완성하세요"
      ],
      "metadata": {
        "id": "aDTpsyhlbtN8"
      }
    },
    {
      "cell_type": "code",
      "source": [
        "# 'count_vowels' 함수를 정의합니다.\n",
        "#이 함수는 문자열을 입력받아 모든 모음의 개수를 반환합니다.\n",
        "def count_vowels(s):\n",
        "  # 이 곳에 코드를 작성해주세요\n",
        "  vowel_list = ['a','e','i','o','u','A','E','I','O','U']\n",
        "  count_num = 0\n",
        "\n",
        "  for i in s:\n",
        "    if i in vowel_list:\n",
        "      count_num += 1\n",
        "  return count_num\n",
        "\n",
        "  # 이 곳에 코드를 작성해주세요\n",
        "\n",
        "# 예제로 사용할 문자열\n",
        "string = \"Hello, Python!\"\n",
        "# 'count_vowels' 함수를 호출하고 결과를 출력합니다.\n",
        "print(count_vowels(string)) # 출력: 4"
      ],
      "metadata": {
        "colab": {
          "base_uri": "https://localhost:8080/"
        },
        "id": "sN65iyXxadmG",
        "outputId": "c2fb68c8-c554-41b4-dbe3-7f6880eae6f8"
      },
      "execution_count": null,
      "outputs": [
        {
          "output_type": "stream",
          "name": "stdout",
          "text": [
            "3\n"
          ]
        }
      ]
    },
    {
      "cell_type": "markdown",
      "source": [
        "##문자열을 입력 받아서 알파벳의 빈도를 반환하는 함수를 완성하세요"
      ],
      "metadata": {
        "id": "lvSxabjAF93u"
      }
    },
    {
      "cell_type": "code",
      "source": [
        "# 'alphabet_frequency' 함수를 정의합니다.\n",
        "#이 함수는 문자열을 입력받아 각 알파벳 문자의 빈도를 사전 형태로 반환합니다.\n",
        "def alphabet_frequency(s):\n",
        "  # 이 곳에 코드를 작성해주세요\n",
        "  char_count = {}\n",
        "  for char in s:\n",
        "    if char.isalpha():\n",
        "      if char in char_count:\n",
        "        char_count[char] += 1\n",
        "      else :\n",
        "        char_count[char] = 1\n",
        "  return char_count\n",
        "  # 이 곳에 코드를 작성해주세요\n",
        "\n",
        "# 예제로 사용할 문자열\n",
        "string = \"Hello, Python!\"\n",
        "# 'alphabet_frequency' 함수를 호출하고 결과를 출력합니다.\n",
        "print(alphabet_frequency(string)) # 출력: {'H': 1, 'e': 1, 'l': 2, 'o': 2, 'P': 1, 'y': 1, 't': 1, 'h': 1, 'n': 1}"
      ],
      "metadata": {
        "id": "UPRMCuJNdoM9",
        "colab": {
          "base_uri": "https://localhost:8080/"
        },
        "outputId": "5d78bd4f-0c72-4065-8b37-ccc241f6ea14"
      },
      "execution_count": 1,
      "outputs": [
        {
          "output_type": "stream",
          "name": "stdout",
          "text": [
            "{'H': 1, 'e': 1, 'l': 2, 'o': 2, 'P': 1, 'y': 1, 't': 1, 'h': 1, 'n': 1}\n"
          ]
        }
      ]
    },
    {
      "cell_type": "code",
      "source": [],
      "metadata": {
        "id": "XcPxin6sHJoX"
      },
      "execution_count": null,
      "outputs": []
    }
  ]
}