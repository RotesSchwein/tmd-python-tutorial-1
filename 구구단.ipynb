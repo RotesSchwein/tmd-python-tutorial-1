{
  "nbformat": 4,
  "nbformat_minor": 0,
  "metadata": {
    "colab": {
      "provenance": []
    },
    "kernelspec": {
      "name": "python3",
      "display_name": "Python 3"
    },
    "language_info": {
      "name": "python"
    }
  },
  "cells": [
    {
      "cell_type": "code",
      "execution_count": 1,
      "metadata": {
        "colab": {
          "base_uri": "https://localhost:8080/"
        },
        "id": "DX3zSag3IZP_",
        "outputId": "6cb3f624-b19a-4c83-e5b5-f14db8b1bbd8"
      },
      "outputs": [
        {
          "output_type": "stream",
          "name": "stdout",
          "text": [
            "구구단 출력\n",
            "\n",
            "1\t2 3 4 5 6 7 8 9 \n",
            "\n",
            "2\t4 6 8 10 12 14 16 18 \n",
            "\n",
            "3\t6 9 12 15 18 21 24 27 \n",
            "\n",
            "4\t8 12 16 20 24 28 32 36 \n",
            "\n",
            "5\t10 15 20 25 30 35 40 45 \n",
            "\n",
            "6\t12 18 24 30 36 42 48 54 \n",
            "\n",
            "7\t14 21 28 35 42 49 56 63 \n",
            "\n",
            "8\t16 24 32 40 48 56 64 72 \n",
            "\n",
            "9\t18 27 36 45 54 63 72 81 \n",
            "\n"
          ]
        }
      ],
      "source": [
        "print(\"구구단 출력\\n\")\n",
        "\n",
        "for i in range(1,10):\n",
        "  print(f\"{i}\\t\", end=\"\")\n",
        "  for j in range(2,10):\n",
        "    print(i*j, end=\" \")\n",
        "  print(\"\\n\")"
      ]
    },
    {
      "cell_type": "code",
      "source": [
        "print(\"구구단 출력\\n\")\n",
        "\n",
        "for i in range(1,10):\n",
        "  print(f\"{i}\\t\", end=\"\")\n",
        "  for j in range(2,10):\n",
        "    print(i*j, end=\"\\t\")\n",
        "  print(\"\\n\")"
      ],
      "metadata": {
        "colab": {
          "base_uri": "https://localhost:8080/"
        },
        "id": "nqTCFDdgIdgQ",
        "outputId": "4b2283c4-d1bb-4972-b9f8-3236c552d151"
      },
      "execution_count": 2,
      "outputs": [
        {
          "output_type": "stream",
          "name": "stdout",
          "text": [
            "구구단 출력\n",
            "\n",
            "1\t2\t3\t4\t5\t6\t7\t8\t9\t\n",
            "\n",
            "2\t4\t6\t8\t10\t12\t14\t16\t18\t\n",
            "\n",
            "3\t6\t9\t12\t15\t18\t21\t24\t27\t\n",
            "\n",
            "4\t8\t12\t16\t20\t24\t28\t32\t36\t\n",
            "\n",
            "5\t10\t15\t20\t25\t30\t35\t40\t45\t\n",
            "\n",
            "6\t12\t18\t24\t30\t36\t42\t48\t54\t\n",
            "\n",
            "7\t14\t21\t28\t35\t42\t49\t56\t63\t\n",
            "\n",
            "8\t16\t24\t32\t40\t48\t56\t64\t72\t\n",
            "\n",
            "9\t18\t27\t36\t45\t54\t63\t72\t81\t\n",
            "\n"
          ]
        }
      ]
    },
    {
      "cell_type": "code",
      "source": [],
      "metadata": {
        "id": "83pTpxWhIjey"
      },
      "execution_count": null,
      "outputs": []
    }
  ]
}