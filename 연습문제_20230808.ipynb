{
 "cells": [
  {
   "cell_type": "code",
   "execution_count": 20,
   "metadata": {},
   "outputs": [
    {
     "name": "stdout",
     "output_type": "stream",
     "text": [
      "1부터 10까지의 짝수를 표시합니다.\n",
      "2\n",
      "4\n",
      "6\n",
      "8\n",
      "10\n"
     ]
    }
   ],
   "source": [
    "# 문제 1번\n",
    "print(\"1부터 10까지의 짝수를 표시합니다.\")\n",
    "\n",
    "for i in range(1, 11):\n",
    "    if i % 2 == 0:\n",
    "        print(i)"
   ]
  },
  {
   "cell_type": "code",
   "execution_count": 24,
   "metadata": {},
   "outputs": [
    {
     "name": "stdout",
     "output_type": "stream",
     "text": [
      "1부터 10까지의 짝수를 표시합니다.\n",
      "2\n",
      "4\n",
      "6\n",
      "8\n",
      "10\n"
     ]
    }
   ],
   "source": [
    "# 문제 2번\n",
    "print(\"1부터 10까지의 짝수를 표시합니다.\")\n",
    "\n",
    "for i in range(2, 11, 2):\n",
    "    print(i)"
   ]
  },
  {
   "cell_type": "code",
   "execution_count": 25,
   "metadata": {},
   "outputs": [
    {
     "name": "stdout",
     "output_type": "stream",
     "text": [
      "1\t2\t3\t4\t5\t6\t7\t8\t9\n",
      "2\t4\t6\t8\t10\t12\t14\t16\t18\n",
      "3\t6\t9\t12\t15\t18\t21\t24\t27\n",
      "4\t8\t12\t16\t20\t24\t28\t32\t36\n",
      "5\t10\t15\t20\t25\t30\t35\t40\t45\n",
      "6\t12\t18\t24\t30\t36\t42\t48\t54\n",
      "7\t14\t21\t28\t35\t42\t49\t56\t63\n",
      "8\t16\t24\t32\t40\t48\t56\t64\t72\n",
      "9\t18\t27\t36\t45\t54\t63\t72\t81\n"
     ]
    }
   ],
   "source": [
    "# 문제 3번\n",
    "for i in range(1, 10):\n",
    "    print(f\"{i*1}\\t{i*2}\\t{i*3}\\t{i*4}\\t{i*5}\\t{i*6}\\t{i*7}\\t{i*8}\\t{i*9}\")"
   ]
  },
  {
   "cell_type": "code",
   "execution_count": 26,
   "metadata": {},
   "outputs": [
    {
     "name": "stdout",
     "output_type": "stream",
     "text": [
      "*\n",
      "**\n",
      "***\n",
      "****\n",
      "*****\n"
     ]
    }
   ],
   "source": [
    "# 문제 4번\n",
    "for i in range(1, 6):\n",
    "    print(\"*\"*i)"
   ]
  },
  {
   "cell_type": "code",
   "execution_count": 29,
   "metadata": {},
   "outputs": [
    {
     "name": "stdout",
     "output_type": "stream",
     "text": [
      "*****\n",
      "****\n",
      "***\n",
      "**\n",
      "*\n"
     ]
    }
   ],
   "source": [
    "# 문제 5번\n",
    "for i in range(5, 0, -1):\n",
    "    print(\"*\"*i)"
   ]
  }
 ],
 "metadata": {
  "interpreter": {
   "hash": "29f1e52c0d8d5e5ede6aaca4be8238d35b46afd62a3b8286547e2768de775769"
  },
  "kernelspec": {
   "display_name": "Python 3.11.1 64-bit",
   "language": "python",
   "name": "python3"
  },
  "language_info": {
   "codemirror_mode": {
    "name": "ipython",
    "version": 3
   },
   "file_extension": ".py",
   "mimetype": "text/x-python",
   "name": "python",
   "nbconvert_exporter": "python",
   "pygments_lexer": "ipython3",
   "version": "3.11.4"
  },
  "orig_nbformat": 4
 },
 "nbformat": 4,
 "nbformat_minor": 2
}
