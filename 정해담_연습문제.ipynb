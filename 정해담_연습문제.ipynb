{
  "nbformat": 4,
  "nbformat_minor": 0,
  "metadata": {
    "colab": {
      "provenance": []
    },
    "kernelspec": {
      "name": "python3",
      "display_name": "Python 3"
    },
    "language_info": {
      "name": "python"
    }
  },
  "cells": [
    {
      "cell_type": "markdown",
      "source": [
        "연습문제1. 리스트에서 홀수만 추출하기"
      ],
      "metadata": {
        "id": "Yt-C0v-5htrd"
      }
    },
    {
      "cell_type": "code",
      "execution_count": null,
      "metadata": {
        "colab": {
          "base_uri": "https://localhost:8080/"
        },
        "id": "i685vsK9hKnZ",
        "outputId": "efa44ce2-c729-4034-c4c5-03c2ca5ecb67"
      },
      "outputs": [
        {
          "output_type": "stream",
          "name": "stdout",
          "text": [
            "[1, 3, 5, 7, 9]\n"
          ]
        }
      ],
      "source": [
        "#주어진 리스트\n",
        "numbers = [1,2,3,4,5,6,7,8,9,10]\n",
        "\n",
        "#for문과 if문을 사용하여 홀수만 추출하여 새로운 리스트 생성\n",
        "odd_numbers = []\n",
        "\n",
        "#이 사이에 코드를 채워보자\n",
        "\n",
        "\n",
        "for i in numbers:\n",
        "  if i%2 == 1:\n",
        "    odd_numbers.append(i)\n",
        "\n",
        "\n",
        "#이 사이에 코드를 채워보자\n",
        "\n",
        "#결과 출력\n",
        "print(odd_numbers)    #출력값은 [1,3,5,7,9]가 나와야 한다."
      ]
    },
    {
      "cell_type": "markdown",
      "source": [
        "연습문제2. 일차원 리스트에서 최대/최소값 찾기"
      ],
      "metadata": {
        "id": "2y-opZJGiltt"
      }
    },
    {
      "cell_type": "code",
      "source": [
        "#1차원 리스트\n",
        "numbers = [5, 2, 8, 4, 1, 9, 6]\n",
        "\n",
        "\n",
        "#힌트 : for문과 if문을 사용하여 최댓값과 최솟값 찾기\n",
        "#이 사이에 코드를 채워보자\n",
        "\n",
        "sorted_numbers = sorted(numbers)\n",
        "min_value = sorted_numbers[0]\n",
        "\n",
        "sorted_numbers.reverse()\n",
        "max_value = sorted_numbers[0]\n",
        "\n",
        "#이 사이에 코드를 채워보자\n",
        "\n",
        "\n",
        "#결과 출력\n",
        "print(\"최댓값:\", max_value)\n",
        "print(\"최솟값:\", min_value)"
      ],
      "metadata": {
        "colab": {
          "base_uri": "https://localhost:8080/"
        },
        "id": "K2Qjtg5Niat5",
        "outputId": "ef13739f-cf58-4bc3-eb04-7199522303f2"
      },
      "execution_count": null,
      "outputs": [
        {
          "output_type": "stream",
          "name": "stdout",
          "text": [
            "최댓값: 9\n",
            "최솟값: 1\n"
          ]
        }
      ]
    },
    {
      "cell_type": "code",
      "source": [
        "#1차원 리스트\n",
        "numbers = [5, 2, 8, 4, 1, 9, 6]\n",
        "\n",
        "\n",
        "#힌트 : for문과 if문을 사용하여 최댓값과 최솟값 찾기\n",
        "#이 사이에 코드를 채워보자\n",
        "\n",
        "max_value = numbers[0]\n",
        "min_value = numbers[0]\n",
        "\n",
        "for i in numbers:\n",
        "  if i > max_value:\n",
        "    max_value = i\n",
        "  if i < min_value:\n",
        "    min_value = i\n",
        "\n",
        "#이 사이에 코드를 채워보자\n",
        "\n",
        "\n",
        "#결과 출력\n",
        "print(\"최댓값:\", max_value)\n",
        "print(\"최솟값:\", min_value)"
      ],
      "metadata": {
        "colab": {
          "base_uri": "https://localhost:8080/"
        },
        "id": "y4sITyQHjwyu",
        "outputId": "1262f8df-2747-49a0-f8cf-248b7325802c"
      },
      "execution_count": null,
      "outputs": [
        {
          "output_type": "stream",
          "name": "stdout",
          "text": [
            "최댓값: 9\n",
            "최솟값: 1\n"
          ]
        }
      ]
    },
    {
      "cell_type": "markdown",
      "source": [
        "연습문제3. 리스트 내 중복 제거하기"
      ],
      "metadata": {
        "id": "0hXZ4E7ynwgH"
      }
    },
    {
      "cell_type": "code",
      "source": [
        "fruits = ['apple', 'banana', 'orange', 'banana', 'kiwi', 'apple']\n",
        "\n",
        "#for문과 if문을 사용하여 중복 제거하기\n",
        "unique_fruits=[]\n",
        "\n",
        "\n",
        "#이 사이에 코드를 채워보자\n",
        "\n",
        "for i in fruits:\n",
        "  if i not in unique_fruits:\n",
        "    unique_fruits.append(i)\n",
        "\n",
        "#이 사이에 코드를 채워보자\n",
        "\n",
        "\n",
        "#결과출력\n",
        "print(unique_fruits)    #출력 | ['apple', 'banana', 'orange', 'kiwi']"
      ],
      "metadata": {
        "colab": {
          "base_uri": "https://localhost:8080/"
        },
        "id": "olD4CrTqnfM4",
        "outputId": "6a30920e-ee2d-430c-ab28-0ed970956005"
      },
      "execution_count": null,
      "outputs": [
        {
          "output_type": "stream",
          "name": "stdout",
          "text": [
            "['apple', 'banana', 'orange', 'kiwi']\n"
          ]
        }
      ]
    },
    {
      "cell_type": "markdown",
      "source": [
        "연습문제4. 리스트에서 짝수 홀수 구분하기"
      ],
      "metadata": {
        "id": "Vag_UAfIu2Ru"
      }
    },
    {
      "cell_type": "code",
      "source": [
        "numbers = [1,2,3,4,5,6,7,8,9,10]\n",
        "\n",
        "#for문과 if문을 사용하여 짝수와 홀수 분리하기\n",
        "even_numbers=[]\n",
        "odd_numbers=[]\n",
        "\n",
        "\n",
        "#이 사이에 코드를 채워보자\n",
        "\n",
        "for i in numbers:\n",
        "  if i%2 == 0:\n",
        "    even_numbers.append(i)\n",
        "  else :\n",
        "    odd_numbers.append(i)\n",
        "\n",
        "#이 사이에 코드를 채워보자\n",
        "\n",
        "\n",
        "#결과출력\n",
        "print(\"짝수:\", even_numbers)    #출력 | 짝수: [2, 4, 6, 8, 10]\n",
        "print(\"홀수:\", odd_numbers)     #출력 | 홀수 : [1, 3, 5, 7, 9]"
      ],
      "metadata": {
        "colab": {
          "base_uri": "https://localhost:8080/"
        },
        "id": "E5WIb0O0u4Hf",
        "outputId": "ea5b874f-d70e-447b-f1ff-057ff1c58f0d"
      },
      "execution_count": null,
      "outputs": [
        {
          "output_type": "stream",
          "name": "stdout",
          "text": [
            "짝수: [2, 4, 6, 8, 10]\n",
            "홀수: [1, 3, 5, 7, 9]\n"
          ]
        }
      ]
    },
    {
      "cell_type": "markdown",
      "source": [
        "연습문제5. 리스트의 모든 요소 곱하기"
      ],
      "metadata": {
        "id": "ywwS6Y2ruwSD"
      }
    },
    {
      "cell_type": "code",
      "source": [
        "numbers = [1, 2, 3, 4, 5]\n",
        "\n",
        "#for문을 사용하여 리스트의 모든 요소 곱하기\n",
        "result=1\n",
        "\n",
        "\n",
        "#이 사이에 코드를 채워보자\n",
        "\n",
        "for i in numbers:\n",
        "  result *= i\n",
        "\n",
        "#이 사이에 코드를 채워보자\n",
        "\n",
        "\n",
        "#결과 출력\n",
        "print(\"곱셈결과:\", result)    #출력 | 곱셈결과: 120"
      ],
      "metadata": {
        "colab": {
          "base_uri": "https://localhost:8080/"
        },
        "id": "j1zU0HYWoVJh",
        "outputId": "3e1bbab9-bfe9-4c22-8d9b-3bced33fe28c"
      },
      "execution_count": null,
      "outputs": [
        {
          "output_type": "stream",
          "name": "stdout",
          "text": [
            "곱셈결과: 120\n"
          ]
        }
      ]
    },
    {
      "cell_type": "markdown",
      "source": [
        "연습문제6. 두 개의 리스트를 조합해 새로운 리스트 생성하기"
      ],
      "metadata": {
        "id": "G-t6ge2yv1nn"
      }
    },
    {
      "cell_type": "code",
      "source": [
        "names = ['Alice', 'Bob', 'Charlie']\n",
        "scores = [85, 90, 78]\n",
        "\n",
        "#zip()함수와 unpack을 사용하여 두 리스트 조합하기\n",
        "combined_list = []\n",
        "\n",
        "\n",
        "#이 사이에 코드를 채워보자\n",
        "\n",
        "for a,b in zip(names, scores):\n",
        "    combined_list.append([a,b])\n",
        "\n",
        "#이 사이에 코드를 채워보자\n",
        "\n",
        "\n",
        "#결과 출력\n",
        "print(combined_list)    #출력 | [['Alice', 85], ['Bob', 90], ['Charlie', 78]]"
      ],
      "metadata": {
        "colab": {
          "base_uri": "https://localhost:8080/"
        },
        "id": "lenE-aaFq7zm",
        "outputId": "61e8f770-36f2-4c27-c3b6-c1c4a4564d27"
      },
      "execution_count": 1,
      "outputs": [
        {
          "output_type": "stream",
          "name": "stdout",
          "text": [
            "[['Alice', 85], ['Bob', 90], ['Charlie', 78]]\n"
          ]
        }
      ]
    },
    {
      "cell_type": "code",
      "source": [],
      "metadata": {
        "id": "xJrOgbS_zmYh"
      },
      "execution_count": null,
      "outputs": []
    }
  ]
}